{
 "cells": [
  {
   "cell_type": "code",
   "execution_count": 3,
   "id": "14d64f59-2005-4bff-95a1-9febe5f0c523",
   "metadata": {},
   "outputs": [],
   "source": [
    "import numpy as np\n",
    "import matplotlib.pyplot as plt\n",
    "import matplotlib.animation as animation\n",
    "from matplotlib.collections import LineCollection"
   ]
  },
  {
   "cell_type": "code",
   "execution_count": 43,
   "id": "be525044-be19-4d04-bd31-ed97f5840582",
   "metadata": {},
   "outputs": [],
   "source": [
    "# Constants\n",
    "g = 9.81\n",
    "l1, l2 = 1.0, 1.0\n",
    "m1, m2 = 1.0, 1.0\n",
    "\n",
    "# Time settings\n",
    "fps = 240\n",
    "dt = 1/fps\n",
    "T = 20\n",
    "time = np.arange(0, T, dt)\n",
    "timesteps = len(time)"
   ]
  },
  {
   "cell_type": "code",
   "execution_count": 44,
   "id": "3d7c718d-b3dd-4932-b50d-593d2edfe0fc",
   "metadata": {},
   "outputs": [],
   "source": [
    "# Derivative function for ODE\n",
    "def derivatives(t1, t2, o1, o2):\n",
    "    delta_theta = t1 - t2\n",
    "    a1 = (-g*(2*m1+m2)*np.sin(t1) - m2*g*np.sin(t1-2*t2) - 2*np.sin(t1-t2)*m2*(o2**2*l2 + o1**2*l1*np.cos(delta_theta)))/(l1*(2*m1+m2-m2*np.cos(2*delta_theta)))\n",
    "    a2 = (2*np.sin(delta_theta)*(o1**2*l1*(m1+m2) + g*(m1+m2)*np.cos(t1) + o2**2*l2*m2*np.cos(delta_theta)))/(l2*(2*m1+m2-m2*np.cos(2*delta_theta)))\n",
    "    return o1, o2, a1, a2\n",
    "\n",
    "def rk4(t1, t2, o1, o2):\n",
    "    k1_t1, k1_t2, k1_o1, k1_o2 = derivatives(t1, t2, o1, o2)\n",
    "    k2_t1, k2_t2, k2_o1, k2_o2 = derivatives(t1+0.5*dt*k1_t1, t2+0.5*dt*k1_t2, o1+0.5*dt*k1_o1, o2+0.5*dt*k1_o2)\n",
    "    k3_t1, k3_t2, k3_o1, k3_o2 = derivatives(t1+0.5*dt*k2_t1, t2+0.5*dt*k2_t2, o1+0.5*dt*k2_o1, o2+0.5*dt*k2_o2)\n",
    "    k4_t1, k4_t2, k4_o1, k4_o2 = derivatives(t1+dt*k3_t1, t2+dt*k3_t2, o1+dt*k3_o1, o2+dt*k3_o2)\n",
    "\n",
    "    t1_new = t1 + (1/6)*(k1_t1 + 2*k2_t1 + 2*k3_t1 + k4_t1)*dt\n",
    "    t2_new = t2 + (1/6)*(k1_t2 + 2*k2_t2 + 2*k3_t2 + k4_t2)*dt\n",
    "    o1_new = o1 + (1/6)*(k1_o1 + 2*k2_o1 + 2*k3_o1 + k4_o1)*dt\n",
    "    o2_new = o2 + (1/6)*(k1_o2 + 2*k2_o2 + 2*k3_o2 + k4_o2)*dt\n",
    "\n",
    "    return t1_new, t2_new, o1_new, o2_new\n",
    "    \n",
    "def solve(t1_0, t2_0, n):\n",
    "    t1 = np.zeros(n)\n",
    "    t2 = np.zeros(n)\n",
    "    o1 = np.zeros(n)\n",
    "    o2 = np.zeros(n)\n",
    "    \n",
    "    t1[0] = t1_0\n",
    "    t2[0] = t2_0\n",
    "\n",
    "    for i in range(1, timesteps):\n",
    "        t1[i], t2[i], o1[i], o2[i] = rk4(t1[i-1], t2[i-1], o1[i-1], o2[i-1])\n",
    "\n",
    "    return t1, t2, o1, o2"
   ]
  },
  {
   "cell_type": "code",
   "execution_count": 47,
   "id": "665f2224-2180-4800-8530-0b53442a54ac",
   "metadata": {},
   "outputs": [],
   "source": [
    "# Initial conditions\n",
    "theta_a10 = np.pi / 2\n",
    "theta_a20 = np.pi - 0.0001\n",
    "\n",
    "theta1, theta2, omega1, omega2 = solve(theta_a10, theta_a20, timesteps)"
   ]
  },
  {
   "cell_type": "code",
   "execution_count": 48,
   "id": "58d75afa-8f54-4c54-a412-091b2763568e",
   "metadata": {},
   "outputs": [
    {
     "data": {
      "image/png": "[encoded data removed]",
      "text/plain": [
       "<Figure size 640x480 with 1 Axes>"
      ]
     },
     "metadata": {},
     "output_type": "display_data"
    }
   ],
   "source": [
    "# For path tracing of the second bob\n",
    "path_data = []\n",
    "max_path_length = 800  # number of segments to show, adjust as needed\n",
    "\n",
    "fig, ax = plt.subplots()\n",
    "ax.set_xlim(-2.5, 2.5)\n",
    "ax.set_ylim(-2.5, 1.75)\n",
    "ax.set_aspect('equal', 'box')\n",
    "ax.axis('off')\n",
    "\n",
    "line, = ax.plot([], [], color='slategrey', lw=2)\n",
    "bob1 = plt.Circle((l1*np.sin(theta1[0]), -l1*np.cos(theta1[0])), 0.08, fc='b', alpha=0.1)\n",
    "bob2 = plt.Circle((l1*np.sin(theta1[0]) + l2*np.sin(theta2[0]), -l1*np.cos(theta1[0]) - l2*np.cos(theta2[0])), 0.08, fc='g', alpha=0.1)\n",
    "\n",
    "# Adding the path of bob2 as a LineCollection\n",
    "c = 'magenta'\n",
    "# c = 'teal'\n",
    "lc = LineCollection([], colors=c, linewidth=1, alpha=0.8)\n",
    "lc.set_array(np.linspace(0, 1, max_path_length))\n",
    "ax.add_collection(lc)\n",
    "\n",
    "def init():\n",
    "    line.set_data([], [])\n",
    "    ax.add_patch(bob1)\n",
    "    ax.add_patch(bob2)\n",
    "    return line, bob1, bob2, lc\n",
    "\n",
    "def animate(i):\n",
    "    x = [0, l1*np.sin(theta1[i]), l1*np.sin(theta1[i]) + l2*np.sin(theta2[i])]\n",
    "    y = [0, -l1*np.cos(theta1[i]), -l1*np.cos(theta1[i]) - l2*np.cos(theta2[i])]\n",
    "    \n",
    "    path_data.append((x[2], y[2]))\n",
    "    \n",
    "    if len(path_data) > max_path_length:\n",
    "        path_data.pop(0)\n",
    "\n",
    "    lc.set_segments([path_data])\n",
    "\n",
    "    # Update alpha values to create fading effect\n",
    "    # lc.set_array(np.linspace(0, 1, len(path_x)))\n",
    "\n",
    "    line.set_data(x, y)\n",
    "    bob1.center = (x[1], y[1])\n",
    "    bob2.center = (x[2], y[2])\n",
    "    return line, bob1, bob2, lc\n",
    "\n",
    "anim = animation.FuncAnimation(fig, animate, frames=len(time), init_func=init, blit=True, interval=dt*1000)\n",
    "# anim.save('double-pendulum-with-path.mov')\n",
    "\n",
    "# Save the animation\n",
    "Writer = animation.writers['ffmpeg']\n",
    "writer = Writer(fps=fps, metadata=dict(artist='Me'), bitrate=1800)\n",
    "anim.save(f'double-pendulum-with-path-{c}.mp4', writer=writer, dpi=300)  # Change dpi to set the resolution"
   ]
  },
  {
   "cell_type": "code",
   "execution_count": null,
   "id": "9e65faa9-e1ff-4f16-84ba-db629b015940",
   "metadata": {},
   "outputs": [],
   "source": []
  }
 ],
 "metadata": {
  "kernelspec": {
   "display_name": "Python 3 (ipykernel)",
   "language": "python",
   "name": "python3"
  },
  "language_info": {
   "codemirror_mode": {
    "name": "ipython",
    "version": 3
   },
   "file_extension": ".py",
   "mimetype": "text/x-python",
   "name": "python",
   "nbconvert_exporter": "python",
   "pygments_lexer": "ipython3",
   "version": "3.11.2"
  }
 },
 "nbformat": 4,
 "nbformat_minor": 5
}
