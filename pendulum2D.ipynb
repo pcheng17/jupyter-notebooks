{
 "cells": [
  {
   "cell_type": "code",
   "execution_count": 2,
   "id": "4db5f9fb-2308-4112-aaea-3e71402c60e1",
   "metadata": {},
   "outputs": [
    {
     "data": {
      "image/png": "[encoded data removed]",
      "text/plain": [
       "<Figure size 640x480 with 1 Axes>"
      ]
     },
     "metadata": {},
     "output_type": "display_data"
    }
   ],
   "source": [
    "import numpy as np\n",
    "import matplotlib.pyplot as plt\n",
    "import matplotlib.animation as animation\n",
    "\n",
    "# Constants\n",
    "g = 9.81   # acceleration due to gravity\n",
    "l = 1.0   # length of pendulum\n",
    "\n",
    "# Time settings\n",
    "dt = 1/60  # Time step\n",
    "T = 10     # Total simulation time\n",
    "time = np.arange(0, T, dt)\n",
    "\n",
    "# Initial conditions\n",
    "theta = np.zeros(len(time))\n",
    "omega = np.zeros(len(time))\n",
    "theta[0] = np.pi / 4  # Starting angle (45 degrees from the vertical)\n",
    "\n",
    "# Euler's method\n",
    "for i in range(1, len(time)):\n",
    "    omega[i] = omega[i-1] - (g/l) * np.sin(theta[i-1]) * dt\n",
    "    theta[i] = theta[i-1] + omega[i] * dt\n",
    "\n",
    "# Animation\n",
    "fig, ax = plt.subplots()\n",
    "ax.set_xlim(-1.5, 1.5)\n",
    "ax.set_ylim(-1.5, 1.5)\n",
    "ax.set_aspect('equal', 'box')\n",
    "ax.axis('off')\n",
    "\n",
    "# Draw pendulum rod and bob\n",
    "line, = ax.plot([], [], 'r-', lw=2)\n",
    "bob = plt.Circle((l*np.sin(theta[0]), -l*np.cos(theta[0])), 0.1, fc='b')\n",
    "\n",
    "def init():\n",
    "    line.set_data([], [])\n",
    "    ax.add_patch(bob)\n",
    "    return line, bob\n",
    "\n",
    "def animate(i):\n",
    "    x = [0, l*np.sin(theta[i])]\n",
    "    y = [0, -l*np.cos(theta[i])]\n",
    "    line.set_data(x, y)\n",
    "    bob.center = (x[1], y[1])\n",
    "    return line, bob\n",
    "\n",
    "anim = animation.FuncAnimation(fig, animate, frames=len(time), init_func=init, blit=True, interval=dt*1000)\n",
    "anim.save('pendulum.mov')"
   ]
  },
  {
   "cell_type": "code",
   "execution_count": null,
   "id": "2156ffd8-6a8a-46a7-ae30-45cc26bcbe78",
   "metadata": {},
   "outputs": [],
   "source": []
  }
 ],
 "metadata": {
  "kernelspec": {
   "display_name": "Python 3 (ipykernel)",
   "language": "python",
   "name": "python3"
  },
  "language_info": {
   "codemirror_mode": {
    "name": "ipython",
    "version": 3
   },
   "file_extension": ".py",
   "mimetype": "text/x-python",
   "name": "python",
   "nbconvert_exporter": "python",
   "pygments_lexer": "ipython3",
   "version": "3.11.2"
  }
 },
 "nbformat": 4,
 "nbformat_minor": 5
}
